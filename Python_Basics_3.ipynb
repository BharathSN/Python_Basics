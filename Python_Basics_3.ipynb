{
 "cells": [
  {
   "cell_type": "markdown",
   "metadata": {},
   "source": [
    "## Python Basics"
   ]
  },
  {
   "cell_type": "code",
   "execution_count": 4,
   "metadata": {},
   "outputs": [
    {
     "name": "stdout",
     "output_type": "stream",
     "text": [
      "Sum of the Input List :  150\n"
     ]
    }
   ],
   "source": [
    "# Sum of all the elements in a list\n",
    "inputlist = [] \n",
    "\n",
    "\n",
    "inputlist = [10,20,30,40,50] \n",
    "# there is a inbuilt function called as sum(), which will add all the elements of the list \n",
    "# and returns the sum value.\n",
    "\n",
    "inputlist_sum = sum(inputlist) \n",
    "\n",
    "# display sum \n",
    "print ('Sum of the Input List : ',inputlist_sum) "
   ]
  },
  {
   "cell_type": "code",
   "execution_count": 8,
   "metadata": {},
   "outputs": [
    {
     "name": "stdout",
     "output_type": "stream",
     "text": [
      "Element Exists\n"
     ]
    }
   ],
   "source": [
    "# Presence of a number in a list\n",
    "\n",
    "testlist = [ 10,20,30,40,50,60 ] \n",
    "\n",
    "#Check 20 exists in list using loop \n",
    "for i in testlist: \n",
    "    if(i == 20) : \n",
    "        print (\"Element Exists\") "
   ]
  },
  {
   "cell_type": "code",
   "execution_count": 11,
   "metadata": {},
   "outputs": [
    {
     "name": "stdout",
     "output_type": "stream",
     "text": [
      "Element Exists\n"
     ]
    }
   ],
   "source": [
    "testlist = [ 10,20,30,40,50,60 ] \n",
    "#Check 20 exists in list using loop \n",
    "if(20 in testlist) : \n",
    "    print (\"Element Exists\") "
   ]
  },
  {
   "cell_type": "markdown",
   "metadata": {},
   "source": [
    "## Zip in python"
   ]
  },
  {
   "cell_type": "code",
   "execution_count": 20,
   "metadata": {},
   "outputs": [
    {
     "data": {
      "text/plain": [
       "[(1, 'a'), (2, 'b'), (3, 'c')]"
      ]
     },
     "execution_count": 20,
     "metadata": {},
     "output_type": "execute_result"
    }
   ],
   "source": [
    "# Method 1\n",
    "lista=[1,2,3]\n",
    "listb=['a','b','c']\n",
    "listzipped = zip(lista,listb)\n",
    "list(listzipped)"
   ]
  },
  {
   "cell_type": "code",
   "execution_count": 21,
   "metadata": {},
   "outputs": [
    {
     "name": "stdout",
     "output_type": "stream",
     "text": [
      "(1, 'a')\n",
      "(2, 'b')\n",
      "(3, 'c')\n"
     ]
    }
   ],
   "source": [
    "# Method 2\n",
    "lista=[1,2,3]\n",
    "listb=['a','b','c']\n",
    "listzipped = zip(lista,listb)\n",
    "for i in listzipped:\n",
    "    print(i)"
   ]
  },
  {
   "cell_type": "code",
   "execution_count": null,
   "metadata": {},
   "outputs": [],
   "source": []
  }
 ],
 "metadata": {
  "kernelspec": {
   "display_name": "Python 3",
   "language": "python",
   "name": "python3"
  },
  "language_info": {
   "codemirror_mode": {
    "name": "ipython",
    "version": 3
   },
   "file_extension": ".py",
   "mimetype": "text/x-python",
   "name": "python",
   "nbconvert_exporter": "python",
   "pygments_lexer": "ipython3",
   "version": "3.7.3"
  }
 },
 "nbformat": 4,
 "nbformat_minor": 2
}
