{
 "cells": [
  {
   "cell_type": "markdown",
   "metadata": {},
   "source": [
    "## Some basic programs"
   ]
  },
  {
   "cell_type": "code",
   "execution_count": 7,
   "metadata": {},
   "outputs": [
    {
     "name": "stdout",
     "output_type": "stream",
     "text": [
      "sum =  25\n"
     ]
    }
   ],
   "source": [
    "# add Integer two number\n",
    "n1 = 10\n",
    "n2 = 15\n",
    "  \n",
    "# Adding two nos \n",
    "print('sum = ', n1 + n2) "
   ]
  },
  {
   "cell_type": "code",
   "execution_count": 10,
   "metadata": {},
   "outputs": [
    {
     "name": "stdout",
     "output_type": "stream",
     "text": [
      "sum =  26.1\n"
     ]
    }
   ],
   "source": [
    "# add Integer two float\n",
    "n1 = 10.5\n",
    "n2 = 15.6\n",
    "  \n",
    "# Adding two nos \n",
    "print('sum = ', n1 + n2) "
   ]
  },
  {
   "cell_type": "code",
   "execution_count": 9,
   "metadata": {},
   "outputs": [
    {
     "name": "stdout",
     "output_type": "stream",
     "text": [
      "sub =  5\n"
     ]
    }
   ],
   "source": [
    "# subtract two number\n",
    "n1 = 20\n",
    "n2 = 15\n",
    "  \n",
    "# Adding two nos \n",
    "print('sub = ', n1 - n2) "
   ]
  },
  {
   "cell_type": "code",
   "execution_count": 17,
   "metadata": {},
   "outputs": [
    {
     "name": "stdout",
     "output_type": "stream",
     "text": [
      "Before Swapping :  12 59\n",
      "After Swapping :  59 12\n"
     ]
    }
   ],
   "source": [
    "# Swapping of numbers\n",
    "a = 12\n",
    "b = 59\n",
    "print('Before Swapping : ',a,b)\n",
    "a,b = b,a\n",
    "print('After Swapping : ',a,b)"
   ]
  },
  {
   "cell_type": "code",
   "execution_count": 36,
   "metadata": {},
   "outputs": [
    {
     "name": "stdout",
     "output_type": "stream",
     "text": [
      "[1, 2, 3, 4, 5]\n"
     ]
    }
   ],
   "source": [
    "# Creating a list\n",
    "inputlist = [1,2,3,4,5]\n",
    "print(inputlist)"
   ]
  },
  {
   "cell_type": "code",
   "execution_count": 37,
   "metadata": {},
   "outputs": [
    {
     "name": "stdout",
     "output_type": "stream",
     "text": [
      "[1, 2, 3, 4, 5, 6]\n"
     ]
    }
   ],
   "source": [
    "# appending an element\n",
    "inputlist.append(6)\n",
    "print(inputlist)"
   ]
  },
  {
   "cell_type": "code",
   "execution_count": 38,
   "metadata": {},
   "outputs": [
    {
     "name": "stdout",
     "output_type": "stream",
     "text": [
      "[1, 2, 3, 4, 5, 6, 'bharath']\n"
     ]
    }
   ],
   "source": [
    "# appending a string element\n",
    "inputlist.append('bharath')\n",
    "print(inputlist)"
   ]
  },
  {
   "cell_type": "code",
   "execution_count": 39,
   "metadata": {},
   "outputs": [
    {
     "name": "stdout",
     "output_type": "stream",
     "text": [
      "[1, 2, 3, 4, 5, 6, 'bharath', 2.58]\n"
     ]
    }
   ],
   "source": [
    "# appending a string element\n",
    "inputlist.append(2.58)\n",
    "print(inputlist)"
   ]
  },
  {
   "cell_type": "code",
   "execution_count": 42,
   "metadata": {},
   "outputs": [
    {
     "name": "stdout",
     "output_type": "stream",
     "text": [
      "Total Length of the List =  8\n"
     ]
    }
   ],
   "source": [
    "print('Total Length of the List = ',len(inputlist))"
   ]
  },
  {
   "cell_type": "code",
   "execution_count": 47,
   "metadata": {},
   "outputs": [
    {
     "name": "stdout",
     "output_type": "stream",
     "text": [
      "Method - 1\n",
      "1\n",
      "2\n",
      "3\n",
      "4\n",
      "5\n",
      "6\n",
      "bharath\n",
      "2.58\n"
     ]
    }
   ],
   "source": [
    "#accessing list in python\n",
    "print('Method - 1')\n",
    "for ele in inputlist:\n",
    "    print(ele)"
   ]
  },
  {
   "cell_type": "code",
   "execution_count": 53,
   "metadata": {},
   "outputs": [
    {
     "name": "stdout",
     "output_type": "stream",
     "text": [
      "Method - 2\n",
      "\n",
      "index =  0 \telement =  1\n",
      "index =  1 \telement =  2\n",
      "index =  2 \telement =  3\n",
      "index =  3 \telement =  4\n",
      "index =  4 \telement =  5\n",
      "index =  5 \telement =  6\n",
      "index =  6 \telement =  bharath\n",
      "index =  7 \telement =  2.58\n"
     ]
    }
   ],
   "source": [
    "#accessing list in python\n",
    "print('Method - 2\\n')\n",
    "for i in range(len(inputlist)) :\n",
    "    print('index = ',i,'\\telement = ',inputlist[i])"
   ]
  },
  {
   "cell_type": "code",
   "execution_count": 57,
   "metadata": {},
   "outputs": [
    {
     "name": "stdout",
     "output_type": "stream",
     "text": [
      "Method - 3\n",
      "\n",
      "index =  0 \telement =  1\n",
      "index =  1 \telement =  2\n",
      "index =  2 \telement =  3\n",
      "index =  3 \telement =  4\n",
      "index =  4 \telement =  5\n",
      "index =  5 \telement =  6\n",
      "index =  6 \telement =  bharath\n",
      "index =  7 \telement =  2.58\n"
     ]
    }
   ],
   "source": [
    "#accessing list in python\n",
    "print('Method - 3\\n')\n",
    "for index, value in enumerate(inputlist): \n",
    "    print('index = ',index,'\\telement = ',value)"
   ]
  },
  {
   "cell_type": "code",
   "execution_count": null,
   "metadata": {},
   "outputs": [],
   "source": []
  }
 ],
 "metadata": {
  "kernelspec": {
   "display_name": "Python 3",
   "language": "python",
   "name": "python3"
  },
  "language_info": {
   "codemirror_mode": {
    "name": "ipython",
    "version": 3
   },
   "file_extension": ".py",
   "mimetype": "text/x-python",
   "name": "python",
   "nbconvert_exporter": "python",
   "pygments_lexer": "ipython3",
   "version": "3.7.3"
  }
 },
 "nbformat": 4,
 "nbformat_minor": 2
}
