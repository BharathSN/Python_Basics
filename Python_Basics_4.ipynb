{
 "cells": [
  {
   "cell_type": "code",
   "execution_count": 17,
   "metadata": {},
   "outputs": [
    {
     "name": "stdout",
     "output_type": "stream",
     "text": [
      "[1, 10, 11, 20, 21, 30, 31, 41, 50, 51, 60]\n"
     ]
    }
   ],
   "source": [
    "## itertools in Python\n",
    "from itertools import chain \n",
    "\n",
    "lista =[10,30,20,50,60]\n",
    "listb =[1,11,31,21,41,51]\n",
    "\n",
    "# chaining odd and even numbers \n",
    "listab = sorted(list(chain(lista, listb))) \n",
    "\n",
    "print(listab) "
   ]
  },
  {
   "cell_type": "code",
   "execution_count": 22,
   "metadata": {},
   "outputs": [
    {
     "data": {
      "text/plain": [
       "['computers']"
      ]
     },
     "execution_count": 22,
     "metadata": {},
     "output_type": "execute_result"
    }
   ],
   "source": [
    "# finding the closest match\n",
    "from difflib import get_close_matches \n",
    "  \n",
    "pattern = 'computer'\n",
    "wordlist = ['camp', 'computers', 'desktop'] \n",
    "get_close_matches(pattern,wordlist)    \n"
   ]
  },
  {
   "cell_type": "code",
   "execution_count": 28,
   "metadata": {},
   "outputs": [
    {
     "name": "stdout",
     "output_type": "stream",
     "text": [
      "{'Third': 60, 'Fourth': 36, 'First': 12, 'Second': 80}\n"
     ]
    }
   ],
   "source": [
    "# Merge two dictionaries\n",
    "dicta = {'First': 12, 'Second': 80} \n",
    "dictb = {'Third': 60, 'Fourth': 36} \n",
    "dictb.update(dicta)\n",
    "print(dictb) "
   ]
  },
  {
   "cell_type": "code",
   "execution_count": null,
   "metadata": {},
   "outputs": [],
   "source": []
  }
 ],
 "metadata": {
  "kernelspec": {
   "display_name": "Python 3",
   "language": "python",
   "name": "python3"
  },
  "language_info": {
   "codemirror_mode": {
    "name": "ipython",
    "version": 3
   },
   "file_extension": ".py",
   "mimetype": "text/x-python",
   "name": "python",
   "nbconvert_exporter": "python",
   "pygments_lexer": "ipython3",
   "version": "3.7.3"
  }
 },
 "nbformat": 4,
 "nbformat_minor": 2
}
